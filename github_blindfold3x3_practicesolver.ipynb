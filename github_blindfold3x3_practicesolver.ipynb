{
  "nbformat": 4,
  "nbformat_minor": 0,
  "metadata": {
    "colab": {
      "provenance": [],
      "authorship_tag": "ABX9TyNh4NrAweoOPnQ8FhgbFFsU",
      "include_colab_link": true
    },
    "kernelspec": {
      "name": "python3",
      "display_name": "Python 3"
    },
    "language_info": {
      "name": "python"
    }
  },
  "cells": [
    {
      "cell_type": "markdown",
      "metadata": {
        "id": "view-in-github",
        "colab_type": "text"
      },
      "source": [
        "<a href=\"https://colab.research.google.com/github/shalynbarrios/3x3_Rubik_Cube_Blindfold_Practice/blob/main/github_blindfold3x3_practicesolver.ipynb\" target=\"_parent\"><img src=\"https://colab.research.google.com/assets/colab-badge.svg\" alt=\"Open In Colab\"/></a>"
      ]
    },
    {
      "cell_type": "code",
      "execution_count": null,
      "metadata": {
        "id": "RGoEjGij_Q9q"
      },
      "outputs": [],
      "source": [
        "## essentially this is a code tha helps you practice the name of an edge piece of a rubiks cube\n",
        "# so the white and green pair is CI\n",
        "# this is how i learned to solve the rubiks cube blindfolded. however, if you use a different buffer piece\n",
        "# feel free to change the dictionary of edges below\n",
        "# thanks!"
      ]
    },
    {
      "cell_type": "markdown",
      "source": [
        "![edgeletters.webp](data:image/webp;base64,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)"
      ],
      "metadata": {
        "id": "lou6IjR7Gm0w"
      }
    },
    {
      "cell_type": "code",
      "source": [
        "import random\n",
        "\n",
        "score = 0\n",
        "\n",
        "def main():\n",
        "    global score\n",
        "    # dictionary to map colors with their letter pair\n",
        "    edge_pieces = {\n",
        "        # ok here's all the white pieces, if we assume that the top face is white and\n",
        "        # front face side is green (like in the picture)\n",
        "        ('WHITE', 'BLUE'): 'AQ',\n",
        "        ('WHITE', 'RED'): 'BM',\n",
        "        ('WHITE', 'GREEN'): 'CI',\n",
        "        ('WHITE', 'ORANGE'): 'DE',\n",
        "        # orange\n",
        "        ('ORANGE', 'WHITE'): 'ED',\n",
        "        ('ORANGE', 'GREEN'): 'FL',\n",
        "        ('ORANGE', 'YELLOW'): 'GX',\n",
        "        ('ORANGE', 'BLUE'): 'HR',\n",
        "        # green\n",
        "        ('GREEN', 'WHITE'): 'IC',\n",
        "        ('GREEN', 'RED'): 'JP',\n",
        "        ('GREEN', 'YELLOW'): 'KU',\n",
        "        ('GREEN', 'ORANGE'): 'LF',\n",
        "        # red\n",
        "        ('RED', 'WHITE'): 'MB',\n",
        "        ('RED', 'BLUE'): 'NT',\n",
        "        ('RED', 'YELLOW'): 'OV',\n",
        "        ('RED', 'GREEN'): 'PJ',\n",
        "        # blue\n",
        "        ('BLUE', 'WHITE'): 'QA',\n",
        "        ('BLUE', 'ORANGE'): 'RH',\n",
        "        ('BLUE', 'YELLOW'): 'SV',\n",
        "        ('BLUE', 'RED'): 'TN',\n",
        "\n",
        "        # i don't need yellow edge practice, but you can add your own!\n",
        "    }\n",
        "\n",
        "    print(\"I will give you two colors, and you tell me their pair name.\")\n",
        "    print(\"Type 'exit' at any time to quit. 'exit' in lowercase! \\n\")\n",
        "\n",
        "    # here, it's making a list of just the keys of the dictionary we created above and assigning it to color_pairs\n",
        "    color_pairs = list(edge_pieces.keys())\n",
        "\n",
        "    while True:\n",
        "        # randomly select a color pair (pair in this case is two, remember, this is for edges not corners)\n",
        "        color1, color2 = random.choice(color_pairs) # randomly pick out of the list we created above and assign it to the variables\n",
        "        print(f\"Edge Piece: {color1}, {color2.lower()}. What's their name?\")\n",
        "        # ok we havent learned f strings yet so shoutout to chatgbt\n",
        "        # but for future reference, the f before the string signals that it\n",
        "        # is an f-string and tells python to evaluate the expressions inside the curly braces.\n",
        "\n",
        "        # also, i made the second color lowercase to match with speedcubing notation\n",
        "\n",
        "        # here's the logic for user input\n",
        "        correct_name = edge_pieces[(color1, color2)]\n",
        "        # this line will refer to the dictionary we made\n",
        "        # for the definition\n",
        "        user_input = input(\"Your answer: \")\n",
        "        if user_input.lower() == 'exit':\n",
        "            print(\"Bye Shay!\")\n",
        "            break\n",
        "        elif user_input.upper() == correct_name or user_input.upper() == correct_name[0]:\n",
        "            print(\"Correct!\")\n",
        "            # \\n creates a new line with it\n",
        "            # i just added it so it's more readable in the console\n",
        "            score += 1\n",
        "            print(\"Your score:\", f\"{score}\\n\")\n",
        "            # figured id add a score system. i dont quite fully understand why i had to declare \"score\" as global though\n",
        "        else:\n",
        "            print(f\"Wrong! The correct name is: {correct_name}\")\n",
        "            print(\"Your score:\", f\"{score}\\n\")\n",
        "\n",
        "\n",
        "if __name__ == \"__main__\": # im not entirely sure what this is? but this is the right way to do it... ask ashley!!\n",
        "    main() # and here its calling the function we made earlier :)\n"
      ],
      "metadata": {
        "colab": {
          "base_uri": "https://localhost:8080/"
        },
        "id": "8H4HB8XQCg57",
        "outputId": "7cf8d5bd-42c6-4ea0-bce7-a7fcc1bbce06"
      },
      "execution_count": 1,
      "outputs": [
        {
          "output_type": "stream",
          "name": "stdout",
          "text": [
            "I will give you two colors, and you tell me their pair name.\n",
            "Type 'exit' at any time to quit. 'exit' in lowercase! \n",
            "\n",
            "Edge Piece: RED, green. What's their name?\n",
            "Your answer: exit\n",
            "Bye Shay!\n"
          ]
        }
      ]
    }
  ]
}